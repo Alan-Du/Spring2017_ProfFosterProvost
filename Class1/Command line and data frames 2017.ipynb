{
 "cells": [
  {
   "cell_type": "markdown",
   "metadata": {},
   "source": [
    "# Command line and data frames\n",
    "\n",
    "\n",
    "Spring 2017 - Prof. Foster Provost\n",
    "\n",
    "Teacher Assistant: Maria L Zamora Maass\n",
    "\n",
    "\n",
    "***"
   ]
  },
  {
   "cell_type": "markdown",
   "metadata": {},
   "source": [
    "## Command Line (Terminal)"
   ]
  },
  {
   "cell_type": "markdown",
   "metadata": {},
   "source": [
    "We can use the command line system through the Ipython Notebooks. You can use shell commands (such as the following) by prefixing the line with an exclamation point.\n"
   ]
  },
  {
   "cell_type": "markdown",
   "metadata": {},
   "source": [
    "#### Interaction with files and folders\n",
    "\n",
    "We can navigate the folder structure where we are working (or in any machine you are). For this you will typically use commands such as `ls` (list) and `cd` (change directory). You can make a directory with `mkdir` or move (`mv`) and copy (`cp`) files. To delete a file you can `rm` (remove) it. To print the contents of a file you can `cat` (concatenate) it to the screen.\n",
    "\n",
    "Many commands have options you can set when running them. For example to get a listing of files as a vertical list you can pass the `-l` (list) flag, e.g. `ls -l`. During the normal course of using the command line, you will learn the most useful flags. If you want to see all possible options you can always read the `man` (manual) page for a command, e.g. `man ls`. When you are done reading the `man` page, you can exit by hitting `q` to quit.\n"
   ]
  },
  {
   "cell_type": "code",
   "execution_count": 1,
   "metadata": {
    "collapsed": false
   },
   "outputs": [
    {
     "name": "stdout",
     "output_type": "stream",
     "text": [
      "Command line and data frames 2017.ipynb\r\n",
      "Ipython notebooks and files 2017.ipynb\r\n",
      "Programming Structures and Python Tour 2017.ipynb\r\n",
      "\u001b[34mdata\u001b[m\u001b[m\r\n",
      "\u001b[34mimages\u001b[m\u001b[m\r\n"
     ]
    }
   ],
   "source": [
    "!ls"
   ]
  },
  {
   "cell_type": "code",
   "execution_count": 2,
   "metadata": {
    "collapsed": false
   },
   "outputs": [],
   "source": [
    "!mkdir test"
   ]
  },
  {
   "cell_type": "code",
   "execution_count": 3,
   "metadata": {
    "collapsed": false
   },
   "outputs": [
    {
     "name": "stdout",
     "output_type": "stream",
     "text": [
      "Command line and data frames 2017.ipynb\r\n",
      "Ipython notebooks and files 2017.ipynb\r\n",
      "Programming Structures and Python Tour 2017.ipynb\r\n",
      "\u001b[34mdata\u001b[m\u001b[m\r\n",
      "\u001b[34mimages\u001b[m\u001b[m\r\n",
      "\u001b[34mtest\u001b[m\u001b[m\r\n"
     ]
    }
   ],
   "source": [
    "!ls"
   ]
  },
  {
   "cell_type": "code",
   "execution_count": 4,
   "metadata": {
    "collapsed": false
   },
   "outputs": [
    {
     "name": "stdout",
     "output_type": "stream",
     "text": [
      "new_notebook.png   notebook.png       terminal.png\r\n",
      "new_terminal.png   script.png         terminal_2017.png\r\n",
      "new_text.png       selectlanguage.png text.png\r\n"
     ]
    }
   ],
   "source": [
    "!ls images/"
   ]
  },
  {
   "cell_type": "code",
   "execution_count": 5,
   "metadata": {
    "collapsed": true
   },
   "outputs": [],
   "source": [
    "!cp images/terminal.png test/some_picture.png"
   ]
  },
  {
   "cell_type": "code",
   "execution_count": 6,
   "metadata": {
    "collapsed": false
   },
   "outputs": [
    {
     "name": "stdout",
     "output_type": "stream",
     "text": [
      "some_picture.png\r\n"
     ]
    }
   ],
   "source": [
    "!ls test/"
   ]
  },
  {
   "cell_type": "code",
   "execution_count": 7,
   "metadata": {
    "collapsed": true
   },
   "outputs": [],
   "source": [
    "# WARNING: THIS WILL DELETE THE TEST FOLDER JUST CREATED\n",
    "!rm -rf test/"
   ]
  },
  {
   "cell_type": "code",
   "execution_count": 8,
   "metadata": {
    "collapsed": false
   },
   "outputs": [
    {
     "name": "stdout",
     "output_type": "stream",
     "text": [
      "Command line and data frames 2017.ipynb\r\n",
      "Ipython notebooks and files 2017.ipynb\r\n",
      "Programming Structures and Python Tour 2017.ipynb\r\n",
      "\u001b[34mdata\u001b[m\u001b[m\r\n",
      "\u001b[34mimages\u001b[m\u001b[m\r\n"
     ]
    }
   ],
   "source": [
    "!ls"
   ]
  },
  {
   "cell_type": "markdown",
   "metadata": {},
   "source": [
    "#### Data manipulation and exploration\n",
    "Virtually anything you want to do with a data file can be done at the command line. There are dozens of commands that can be used together to get almost any result! Lets take a look at the the file `data/users.csv`.\n",
    "\n",
    "Before we do anything, lets take a look at the first few lines of the file to get an idea of what's in it."
   ]
  },
  {
   "cell_type": "code",
   "execution_count": 9,
   "metadata": {
    "collapsed": false
   },
   "outputs": [
    {
     "name": "stdout",
     "output_type": "stream",
     "text": [
      "user,variable1,variable2\r\n",
      "parallelconcerned,145.391881,-6.081689\r\n",
      "driftmvc,145.7887,-5.207083\r\n",
      "snowdonevasive,144.295861,-5.826789\r\n",
      "cobolglaucous,146.726242,-6.569828\r\n",
      "stylishmugs,147.22005,-9.443383\r\n",
      "hypergalaxyfibula,143.669186,-3.583828\r\n",
      "pipetsrockers,-45.425978,61.160517\r\n",
      "bracesworkable,-51.678064,64.190922\r\n",
      "spiritedjump,-50.689325,67.016969\r\n"
     ]
    }
   ],
   "source": [
    "!head data/users.csv"
   ]
  },
  {
   "cell_type": "markdown",
   "metadata": {},
   "source": [
    "Maybe we want to see a few more lines of the file,"
   ]
  },
  {
   "cell_type": "code",
   "execution_count": 10,
   "metadata": {
    "collapsed": false
   },
   "outputs": [
    {
     "name": "stdout",
     "output_type": "stream",
     "text": [
      "user,variable1,variable2\r\n",
      "parallelconcerned,145.391881,-6.081689\r\n",
      "driftmvc,145.7887,-5.207083\r\n",
      "snowdonevasive,144.295861,-5.826789\r\n",
      "cobolglaucous,146.726242,-6.569828\r\n",
      "stylishmugs,147.22005,-9.443383\r\n",
      "hypergalaxyfibula,143.669186,-3.583828\r\n",
      "pipetsrockers,-45.425978,61.160517\r\n",
      "bracesworkable,-51.678064,64.190922\r\n",
      "spiritedjump,-50.689325,67.016969\r\n",
      "barnevidence,-68.703161,76.531203\r\n",
      "emeraldclippers,-18.072703,65.659994\r\n",
      "maintainwiggly,-14.401389,65.283333\r\n",
      "submittedwavelength,-15.227222,64.295556\r\n",
      "clucklinnet,-17.425978,65.952328\r\n"
     ]
    }
   ],
   "source": [
    "!head -15 data/users.csv"
   ]
  },
  {
   "cell_type": "markdown",
   "metadata": {},
   "source": [
    "How about the last few lines of the file?"
   ]
  },
  {
   "cell_type": "code",
   "execution_count": 11,
   "metadata": {
    "collapsed": false
   },
   "outputs": [
    {
     "name": "stdout",
     "output_type": "stream",
     "text": [
      "troubledseptum,135.521667,-29.716667\r\n",
      "troubledseptum,-118.598889,34.256944\r\n",
      "organicmajor,-5.435,36.136\r\n",
      "cobolglaucous,-123.5,48.85\r\n",
      "troubledseptum,-124.016667,49.616667\r\n",
      "snaildossier,-124.983333,50.066667\r\n",
      "unbalancedprotoplanet,-127.028611,50.575556\r\n",
      "badgefields,-126.833333,50.883333\r\n",
      "backedammeter,-123.00596,48.618397\r\n",
      "clucklinnet,-117.1995,32.7552\r\n"
     ]
    }
   ],
   "source": [
    "!tail data/users.csv"
   ]
  },
  {
   "cell_type": "markdown",
   "metadata": {},
   "source": [
    "We can count how many lines are in the file by using wc (a word counting tool) with the -l flag to count lines,"
   ]
  },
  {
   "cell_type": "code",
   "execution_count": 12,
   "metadata": {
    "collapsed": false
   },
   "outputs": [
    {
     "name": "stdout",
     "output_type": "stream",
     "text": [
      "    8104 data/users.csv\r\n"
     ]
    }
   ],
   "source": [
    "!wc -l data/users.csv"
   ]
  },
  {
   "cell_type": "markdown",
   "metadata": {},
   "source": [
    "It looks like there are three columns in this file, lets take a look at the first one alone. Here, we can cut the field (-f) we want as long as we give the proper delimeter (-d defaults to tab)."
   ]
  },
  {
   "cell_type": "code",
   "execution_count": null,
   "metadata": {
    "collapsed": true
   },
   "outputs": [],
   "source": [
    "!cut -f1 -d',' data/users.csv"
   ]
  },
  {
   "cell_type": "markdown",
   "metadata": {},
   "source": [
    "That's a lot of output. Let's combine the cut command with the head command by piping the output of one command into another one,"
   ]
  },
  {
   "cell_type": "code",
   "execution_count": 13,
   "metadata": {
    "collapsed": false
   },
   "outputs": [
    {
     "name": "stdout",
     "output_type": "stream",
     "text": [
      "user\r\n",
      "parallelconcerned\r\n",
      "driftmvc\r\n",
      "snowdonevasive\r\n",
      "cobolglaucous\r\n",
      "stylishmugs\r\n",
      "hypergalaxyfibula\r\n",
      "pipetsrockers\r\n",
      "bracesworkable\r\n",
      "spiritedjump\r\n"
     ]
    }
   ],
   "source": [
    "!cut -f1 -d',' data/users.csv | head"
   ]
  },
  {
   "cell_type": "markdown",
   "metadata": {},
   "source": [
    "We can use pipes (`|`) to string together many commands to create very powerful one liners. For example, lets get the number of unique users in the first column. We will get all values from the first column, sort them, find all unique values, and then count the number of lines,"
   ]
  },
  {
   "cell_type": "code",
   "execution_count": 14,
   "metadata": {
    "collapsed": false
   },
   "outputs": [
    {
     "name": "stdout",
     "output_type": "stream",
     "text": [
      "     201\r\n"
     ]
    }
   ],
   "source": [
    "!cut -f1 -d',' data/users.csv | sort | uniq | wc -l"
   ]
  },
  {
   "cell_type": "markdown",
   "metadata": {},
   "source": [
    "Or, we can get a list of the top-10 most frequently occuring users. If we give uniq the -c flag, it will return the number of times each value occurs. Since these counts are the first entry in each new line, we can tell sort to expect numbers (-n) and to give us the results in reverse (-r) order. Note, that when you want to use two or more single letter flags, you can just place them one after another."
   ]
  },
  {
   "cell_type": "code",
   "execution_count": 15,
   "metadata": {
    "collapsed": false
   },
   "outputs": [
    {
     "name": "stdout",
     "output_type": "stream",
     "text": [
      "  59 compareas\r\n",
      "  56 upbeatodd\r\n",
      "  56 burntrifle\r\n",
      "  56 binomialapathetic\r\n",
      "  54 frequencywould\r\n",
      "  54 ellipticalfabricator\r\n",
      "  53 globeshameful\r\n",
      "  52 badgefields\r\n",
      "  52 ashamedmuscles\r\n",
      "  51 alloweruptions\r\n"
     ]
    }
   ],
   "source": [
    "!cut -f1 -d',' data/users.csv | sort | uniq -c | sort -nr | head"
   ]
  },
  {
   "cell_type": "markdown",
   "metadata": {},
   "source": [
    "After some exploration we decide we want to keep only part of our data and bring it into a new file. Let's find all the records that have a negative value in the second and third columns and put these results in a file called `data/negative_users.csv`. Searching through files can be done using _[regular expressions](http://www.robelle.com/smugbook/regexpr.html#expression)_ with a tool called `grep` (Global Regular Expression Printer). You can direct output into a file using a `>`."
   ]
  },
  {
   "cell_type": "code",
   "execution_count": 16,
   "metadata": {
    "collapsed": true
   },
   "outputs": [],
   "source": [
    "!grep '.*,-.*,-.*' data/users.csv > data/negative_users.csv"
   ]
  },
  {
   "cell_type": "code",
   "execution_count": 17,
   "metadata": {
    "collapsed": false
   },
   "outputs": [
    {
     "name": "stdout",
     "output_type": "stream",
     "text": [
      "ds_survey.csv      negative_users.csv users.csv\r\n"
     ]
    }
   ],
   "source": [
    "!ls data"
   ]
  },
  {
   "cell_type": "markdown",
   "metadata": {},
   "source": [
    "## Packages and built-in functions"
   ]
  },
  {
   "cell_type": "markdown",
   "metadata": {},
   "source": [
    "Python has a ton of packages that make doing complicated stuff very easy. We won't discuss how to install packages, or give a detailed list of what packages exist, but we will give a brief description about how they are used. An easy way to think of why package are useful is by thinking: \"**Python packages give us access to MANY functions!**\".\n",
    "\n",
    "This are pre-defined functions (built-in) that will make our life easier!! (e.g. the funciton 'str()' that we used to convert numbers into strings)\n",
    "\n",
    "In this class we will use four packages very frequently: `pandas`, `sklearn`, `matplotlib`, and `numpy`:\n",
    "\n",
    "- **`pandas`** is a data manipulation package. It let's you store data in data frames. More on this next class.\n",
    "- **`sklearn`** is a machine learning and data science package. It let's you do fairly complicated machine learning tasks, such as running regressions and building classification models with only a few lines of code!\n",
    "- **`matplotlib`** let's you make nice looking plots.\n",
    "- **`numpy`** (pronounced num-pie) is used for doing \"math stuff\" such as complex math operations (e.g., square roots, exponents, logs) and give you complex matrix operation abilities.\n",
    "\n",
    "If it's confusing as to why this is useful, don't worry. As we use them throughout the semester, their usefulness will become apparent."
   ]
  },
  {
   "cell_type": "markdown",
   "metadata": {},
   "source": [
    "To make the contents of a package useful, you need to import it:"
   ]
  },
  {
   "cell_type": "code",
   "execution_count": 18,
   "metadata": {
    "collapsed": true
   },
   "outputs": [],
   "source": [
    "import pandas\n",
    "import sklearn\n",
    "import matplotlib\n",
    "import numpy"
   ]
  },
  {
   "cell_type": "markdown",
   "metadata": {},
   "source": [
    "Sometimes you will want to use short names for packages. This has just become the norm now, so we will often be doing it so that we fit in with all the professional programmers."
   ]
  },
  {
   "cell_type": "code",
   "execution_count": 19,
   "metadata": {
    "collapsed": true
   },
   "outputs": [],
   "source": [
    "import pandas as pd\n",
    "import numpy as np"
   ]
  },
  {
   "cell_type": "markdown",
   "metadata": {},
   "source": [
    "We can now use some package specific things. For example, numpy has a function called `sqrt()` which will give us the square root of a numpy. Since it is part of numpy, we need to tell Python that's where it is by using a dot.\n",
    "\n",
    "In the following cell you can also see how to write **comments** in your code (professional programmers write comments to allow somebody else understand their code). You should always write commands and procedures considering that they'll be understandable and straightforward."
   ]
  },
  {
   "cell_type": "code",
   "execution_count": 20,
   "metadata": {
    "collapsed": false
   },
   "outputs": [
    {
     "name": "stdout",
     "output_type": "stream",
     "text": [
      "Square root: 5.0\n",
      "Maximum element of our previous list: 7.6\n",
      "Number of elements in our previous list: 8\n",
      "Sum of elements in our previous list: 21.1\n",
      "Range of 5 numbers (remember we start with 0): [0, 1, 2, 3, 4]\n"
     ]
    }
   ],
   "source": [
    "\n",
    "some_list = [0,0,1,2,3,3,4.5,7.6]\n",
    "some_dictionary = {'student1': '(929)-000-0000', 'student2': '(917)-000-0000', 'student3': '(470)-000-0000'}\n",
    "some_set = set( [1,2,4,4,5,5] )\n",
    "\n",
    "\n",
    "# In this part of the code I am using numpy (np) functions\n",
    "\n",
    "print (\"Square root: \" + str ( np.sqrt(25) ))\n",
    "print (\"Maximum element of our previous list: \" + str( np.max(some_list) ))\n",
    "\n",
    "# In this part of the code I am using python functions\n",
    "\n",
    "print (\"Number of elements in our previous list: \" + str( len(some_list) ))\n",
    "print (\"Sum of elements in our previous list: \" + str( sum(some_list) ))\n",
    "print (\"Range of 5 numbers (remember we start with 0): \" + str( range(5) ))\n",
    "\n"
   ]
  },
  {
   "cell_type": "markdown",
   "metadata": {},
   "source": [
    "What about **pandas** ?? The basic aspect of this package is the concept of **DATAFRAMES**. \n",
    "\n",
    "A Dataframe is 2-dimensional labeled data structure with columns of potentially different types. It is generally the most commonly used pandas object. Along with the data, you can optionally pass index (row labels) and columns (column labels) arguments. If you pass an index and / or columns, you are guaranteeing the index and / or columns of the resulting DataFrame. [More details here](http://pandas.pydata.org/pandas-docs/stable/dsintro.html#dataframe)\n",
    "\n",
    "This is how it looks:\n"
   ]
  },
  {
   "cell_type": "code",
   "execution_count": 25,
   "metadata": {
    "collapsed": false
   },
   "outputs": [
    {
     "data": {
      "text/html": [
       "<div>\n",
       "<table border=\"1\" class=\"dataframe\">\n",
       "  <thead>\n",
       "    <tr style=\"text-align: right;\">\n",
       "      <th></th>\n",
       "      <th>Name</th>\n",
       "      <th>Age</th>\n",
       "      <th>Mobile</th>\n",
       "    </tr>\n",
       "  </thead>\n",
       "  <tbody>\n",
       "    <tr>\n",
       "      <th>0</th>\n",
       "      <td>studentA</td>\n",
       "      <td>22</td>\n",
       "      <td>(929)-000-000</td>\n",
       "    </tr>\n",
       "    <tr>\n",
       "      <th>1</th>\n",
       "      <td>studentB</td>\n",
       "      <td>27</td>\n",
       "      <td>(646)-000-000</td>\n",
       "    </tr>\n",
       "    <tr>\n",
       "      <th>2</th>\n",
       "      <td>studentC</td>\n",
       "      <td>30</td>\n",
       "      <td>(917)-000-000</td>\n",
       "    </tr>\n",
       "    <tr>\n",
       "      <th>3</th>\n",
       "      <td>studentD</td>\n",
       "      <td>31</td>\n",
       "      <td>(646)-001-001</td>\n",
       "    </tr>\n",
       "    <tr>\n",
       "      <th>4</th>\n",
       "      <td>studentE</td>\n",
       "      <td>31</td>\n",
       "      <td>(929)-001-001</td>\n",
       "    </tr>\n",
       "    <tr>\n",
       "      <th>5</th>\n",
       "      <td>studentF</td>\n",
       "      <td>30</td>\n",
       "      <td>(917)-001-001</td>\n",
       "    </tr>\n",
       "    <tr>\n",
       "      <th>6</th>\n",
       "      <td>studentG</td>\n",
       "      <td>30</td>\n",
       "      <td>(470)-001-001</td>\n",
       "    </tr>\n",
       "  </tbody>\n",
       "</table>\n",
       "</div>"
      ],
      "text/plain": [
       "       Name  Age         Mobile\n",
       "0  studentA   22  (929)-000-000\n",
       "1  studentB   27  (646)-000-000\n",
       "2  studentC   30  (917)-000-000\n",
       "3  studentD   31  (646)-001-001\n",
       "4  studentE   31  (929)-001-001\n",
       "5  studentF   30  (917)-001-001\n",
       "6  studentG   30  (470)-001-001"
      ]
     },
     "execution_count": 25,
     "metadata": {},
     "output_type": "execute_result"
    }
   ],
   "source": [
    "list1 = ['studentA',22,'(929)-000-000']\n",
    "list2 = ['studentB',27,'(646)-000-000']\n",
    "list3 = ['studentC',30,'(917)-000-000']\n",
    "list4 = ['studentD',31,'(646)-001-001']\n",
    "list5 = ['studentE',31,'(929)-001-001']\n",
    "list6 = ['studentF',30,'(917)-001-001']\n",
    "list7 = ['studentG',30,'(470)-001-001']\n",
    "\n",
    "data_pandas = pd.DataFrame([list1,list2,list3,list4,list5,list6,list7],columns=['Name','Age','Mobile'])\n",
    "data_pandas \n"
   ]
  },
  {
   "cell_type": "markdown",
   "metadata": {},
   "source": [
    "Count nuber of rows based on 'Age'"
   ]
  },
  {
   "cell_type": "code",
   "execution_count": 29,
   "metadata": {
    "collapsed": false
   },
   "outputs": [
    {
     "data": {
      "text/html": [
       "<div>\n",
       "<table border=\"1\" class=\"dataframe\">\n",
       "  <thead>\n",
       "    <tr style=\"text-align: right;\">\n",
       "      <th></th>\n",
       "      <th>Name</th>\n",
       "      <th>Mobile</th>\n",
       "    </tr>\n",
       "    <tr>\n",
       "      <th>Age</th>\n",
       "      <th></th>\n",
       "      <th></th>\n",
       "    </tr>\n",
       "  </thead>\n",
       "  <tbody>\n",
       "    <tr>\n",
       "      <th>22</th>\n",
       "      <td>1</td>\n",
       "      <td>1</td>\n",
       "    </tr>\n",
       "    <tr>\n",
       "      <th>27</th>\n",
       "      <td>1</td>\n",
       "      <td>1</td>\n",
       "    </tr>\n",
       "    <tr>\n",
       "      <th>30</th>\n",
       "      <td>3</td>\n",
       "      <td>3</td>\n",
       "    </tr>\n",
       "    <tr>\n",
       "      <th>31</th>\n",
       "      <td>2</td>\n",
       "      <td>2</td>\n",
       "    </tr>\n",
       "  </tbody>\n",
       "</table>\n",
       "</div>"
      ],
      "text/plain": [
       "     Name  Mobile\n",
       "Age              \n",
       "22      1       1\n",
       "27      1       1\n",
       "30      3       3\n",
       "31      2       2"
      ]
     },
     "execution_count": 29,
     "metadata": {},
     "output_type": "execute_result"
    }
   ],
   "source": [
    "data_pandas.groupby('Age').count()"
   ]
  },
  {
   "cell_type": "markdown",
   "metadata": {},
   "source": [
    "You can sub-select columns making a list with the names"
   ]
  },
  {
   "cell_type": "code",
   "execution_count": 41,
   "metadata": {
    "collapsed": false
   },
   "outputs": [
    {
     "data": {
      "text/html": [
       "<div>\n",
       "<table border=\"1\" class=\"dataframe\">\n",
       "  <thead>\n",
       "    <tr style=\"text-align: right;\">\n",
       "      <th></th>\n",
       "      <th>Name</th>\n",
       "      <th>Age</th>\n",
       "    </tr>\n",
       "  </thead>\n",
       "  <tbody>\n",
       "    <tr>\n",
       "      <th>0</th>\n",
       "      <td>studentA</td>\n",
       "      <td>22</td>\n",
       "    </tr>\n",
       "    <tr>\n",
       "      <th>1</th>\n",
       "      <td>studentB</td>\n",
       "      <td>27</td>\n",
       "    </tr>\n",
       "    <tr>\n",
       "      <th>2</th>\n",
       "      <td>studentC</td>\n",
       "      <td>30</td>\n",
       "    </tr>\n",
       "    <tr>\n",
       "      <th>3</th>\n",
       "      <td>studentD</td>\n",
       "      <td>31</td>\n",
       "    </tr>\n",
       "    <tr>\n",
       "      <th>4</th>\n",
       "      <td>studentE</td>\n",
       "      <td>31</td>\n",
       "    </tr>\n",
       "    <tr>\n",
       "      <th>5</th>\n",
       "      <td>studentF</td>\n",
       "      <td>30</td>\n",
       "    </tr>\n",
       "    <tr>\n",
       "      <th>6</th>\n",
       "      <td>studentG</td>\n",
       "      <td>30</td>\n",
       "    </tr>\n",
       "  </tbody>\n",
       "</table>\n",
       "</div>"
      ],
      "text/plain": [
       "       Name  Age\n",
       "0  studentA   22\n",
       "1  studentB   27\n",
       "2  studentC   30\n",
       "3  studentD   31\n",
       "4  studentE   31\n",
       "5  studentF   30\n",
       "6  studentG   30"
      ]
     },
     "execution_count": 41,
     "metadata": {},
     "output_type": "execute_result"
    }
   ],
   "source": [
    "data_pandas[ ['Name','Age'] ]"
   ]
  },
  {
   "cell_type": "markdown",
   "metadata": {},
   "source": [
    "We can also include columns ( it should have the same number of rows! )"
   ]
  },
  {
   "cell_type": "code",
   "execution_count": 42,
   "metadata": {
    "collapsed": false
   },
   "outputs": [
    {
     "data": {
      "text/html": [
       "<div>\n",
       "<table border=\"1\" class=\"dataframe\">\n",
       "  <thead>\n",
       "    <tr style=\"text-align: right;\">\n",
       "      <th></th>\n",
       "      <th>Name</th>\n",
       "      <th>Age</th>\n",
       "      <th>Mobile</th>\n",
       "      <th>business_major</th>\n",
       "      <th>years_experience</th>\n",
       "    </tr>\n",
       "  </thead>\n",
       "  <tbody>\n",
       "    <tr>\n",
       "      <th>0</th>\n",
       "      <td>studentA</td>\n",
       "      <td>22</td>\n",
       "      <td>(929)-000-000</td>\n",
       "      <td>yes</td>\n",
       "      <td>1</td>\n",
       "    </tr>\n",
       "    <tr>\n",
       "      <th>1</th>\n",
       "      <td>studentB</td>\n",
       "      <td>27</td>\n",
       "      <td>(646)-000-000</td>\n",
       "      <td>no</td>\n",
       "      <td>4</td>\n",
       "    </tr>\n",
       "    <tr>\n",
       "      <th>2</th>\n",
       "      <td>studentC</td>\n",
       "      <td>30</td>\n",
       "      <td>(917)-000-000</td>\n",
       "      <td>yes</td>\n",
       "      <td>2</td>\n",
       "    </tr>\n",
       "    <tr>\n",
       "      <th>3</th>\n",
       "      <td>studentD</td>\n",
       "      <td>31</td>\n",
       "      <td>(646)-001-001</td>\n",
       "      <td>yes</td>\n",
       "      <td>6</td>\n",
       "    </tr>\n",
       "    <tr>\n",
       "      <th>4</th>\n",
       "      <td>studentE</td>\n",
       "      <td>31</td>\n",
       "      <td>(929)-001-001</td>\n",
       "      <td>yes</td>\n",
       "      <td>0</td>\n",
       "    </tr>\n",
       "    <tr>\n",
       "      <th>5</th>\n",
       "      <td>studentF</td>\n",
       "      <td>30</td>\n",
       "      <td>(917)-001-001</td>\n",
       "      <td>no</td>\n",
       "      <td>3</td>\n",
       "    </tr>\n",
       "    <tr>\n",
       "      <th>6</th>\n",
       "      <td>studentG</td>\n",
       "      <td>30</td>\n",
       "      <td>(470)-001-001</td>\n",
       "      <td>yes</td>\n",
       "      <td>0</td>\n",
       "    </tr>\n",
       "  </tbody>\n",
       "</table>\n",
       "</div>"
      ],
      "text/plain": [
       "       Name  Age         Mobile business_major  years_experience\n",
       "0  studentA   22  (929)-000-000            yes                 1\n",
       "1  studentB   27  (646)-000-000             no                 4\n",
       "2  studentC   30  (917)-000-000            yes                 2\n",
       "3  studentD   31  (646)-001-001            yes                 6\n",
       "4  studentE   31  (929)-001-001            yes                 0\n",
       "5  studentF   30  (917)-001-001             no                 3\n",
       "6  studentG   30  (470)-001-001            yes                 0"
      ]
     },
     "execution_count": 42,
     "metadata": {},
     "output_type": "execute_result"
    }
   ],
   "source": [
    "\n",
    "data_pandas['business_major'] = ['yes','no','yes','yes','yes','no','yes']\n",
    "data_pandas['years_experience'] = [1,4,2,6,0,3,0]\n",
    "\n",
    "data_pandas\n"
   ]
  },
  {
   "cell_type": "markdown",
   "metadata": {},
   "source": [
    "What if we take a look again? But now let's use \"sum\" to see all values, not just counts ( sum / aggregate )"
   ]
  },
  {
   "cell_type": "code",
   "execution_count": 37,
   "metadata": {
    "collapsed": false
   },
   "outputs": [
    {
     "data": {
      "text/html": [
       "<div>\n",
       "<table border=\"1\" class=\"dataframe\">\n",
       "  <thead>\n",
       "    <tr style=\"text-align: right;\">\n",
       "      <th></th>\n",
       "      <th>Name</th>\n",
       "      <th>Mobile</th>\n",
       "      <th>business_major</th>\n",
       "    </tr>\n",
       "    <tr>\n",
       "      <th>Age</th>\n",
       "      <th></th>\n",
       "      <th></th>\n",
       "      <th></th>\n",
       "    </tr>\n",
       "  </thead>\n",
       "  <tbody>\n",
       "    <tr>\n",
       "      <th>22</th>\n",
       "      <td>studentA</td>\n",
       "      <td>(929)-000-000</td>\n",
       "      <td>yes</td>\n",
       "    </tr>\n",
       "    <tr>\n",
       "      <th>27</th>\n",
       "      <td>studentB</td>\n",
       "      <td>(646)-000-000</td>\n",
       "      <td>no</td>\n",
       "    </tr>\n",
       "    <tr>\n",
       "      <th>30</th>\n",
       "      <td>studentCstudentFstudentG</td>\n",
       "      <td>(917)-000-000(917)-001-001(470)-001-001</td>\n",
       "      <td>yesnoyes</td>\n",
       "    </tr>\n",
       "    <tr>\n",
       "      <th>31</th>\n",
       "      <td>studentDstudentE</td>\n",
       "      <td>(646)-001-001(929)-001-001</td>\n",
       "      <td>yesyes</td>\n",
       "    </tr>\n",
       "  </tbody>\n",
       "</table>\n",
       "</div>"
      ],
      "text/plain": [
       "                         Name                                   Mobile  \\\n",
       "Age                                                                      \n",
       "22                   studentA                            (929)-000-000   \n",
       "27                   studentB                            (646)-000-000   \n",
       "30   studentCstudentFstudentG  (917)-000-000(917)-001-001(470)-001-001   \n",
       "31           studentDstudentE               (646)-001-001(929)-001-001   \n",
       "\n",
       "    business_major  \n",
       "Age                 \n",
       "22             yes  \n",
       "27              no  \n",
       "30        yesnoyes  \n",
       "31          yesyes  "
      ]
     },
     "execution_count": 37,
     "metadata": {},
     "output_type": "execute_result"
    }
   ],
   "source": [
    "data_pandas.groupby('Age').sum()"
   ]
  },
  {
   "cell_type": "markdown",
   "metadata": {},
   "source": [
    "****\n",
    "\n",
    "What is the age average? (Combine packages: numpy and pandas)\n"
   ]
  },
  {
   "cell_type": "code",
   "execution_count": 43,
   "metadata": {
    "collapsed": false
   },
   "outputs": [
    {
     "data": {
      "text/plain": [
       "28.714285714285715"
      ]
     },
     "execution_count": 43,
     "metadata": {},
     "output_type": "execute_result"
    }
   ],
   "source": [
    "np.mean( data_pandas['Age'] )"
   ]
  },
  {
   "cell_type": "markdown",
   "metadata": {},
   "source": [
    "\n",
    "What about operations with columns? Let's take the difference between age and years of experience!\n",
    "\n",
    "_(Look how I select columns here!!)_\n"
   ]
  },
  {
   "cell_type": "code",
   "execution_count": 47,
   "metadata": {
    "collapsed": false
   },
   "outputs": [
    {
     "data": {
      "text/plain": [
       "0    21\n",
       "1    23\n",
       "2    28\n",
       "3    25\n",
       "4    31\n",
       "5    27\n",
       "6    30\n",
       "dtype: int64"
      ]
     },
     "execution_count": 47,
     "metadata": {},
     "output_type": "execute_result"
    }
   ],
   "source": [
    "\n",
    "data_pandas.Age - data_pandas.years_experience\n"
   ]
  },
  {
   "cell_type": "markdown",
   "metadata": {},
   "source": [
    "\n",
    "***\n",
    "\n",
    "We'll see more functions during the semester and you can always look for them (remember, google is your best friend) !!"
   ]
  },
  {
   "cell_type": "markdown",
   "metadata": {},
   "source": [
    "#### Auto complete for packages"
   ]
  },
  {
   "cell_type": "markdown",
   "metadata": {},
   "source": [
    "One of the most useful things about IPython notebook is its tab completion. \n",
    "\n",
    "Try this: click just after `sqrt(` in the cell below and press `Shift + Tab` 4 times, slowly"
   ]
  },
  {
   "cell_type": "code",
   "execution_count": null,
   "metadata": {
    "collapsed": false
   },
   "outputs": [],
   "source": [
    "np.sqrt("
   ]
  },
  {
   "cell_type": "markdown",
   "metadata": {},
   "source": [
    "I find this amazingly useful. I think of this as \"the more confused I am, the more times I should press Shift+Tab\". Nothing bad will happen if you tab complete 12 times.\n",
    "\n",
    "Okay, let's try tab completion for function names! Just hit `Tab` when typing below to get suggestions."
   ]
  },
  {
   "cell_type": "code",
   "execution_count": null,
   "metadata": {
    "collapsed": false
   },
   "outputs": [],
   "source": [
    "np.sq"
   ]
  },
  {
   "cell_type": "markdown",
   "metadata": {},
   "source": [
    "This is super useful when you forget the names of everything!"
   ]
  },
  {
   "cell_type": "markdown",
   "metadata": {},
   "source": [
    "## Hands-on"
   ]
  },
  {
   "cell_type": "markdown",
   "metadata": {},
   "source": [
    "To master your new found knowledge of Python, you should try these hands-on examples. \n",
    "\n",
    "Your homeworks will be in a similar format to this section."
   ]
  },
  {
   "cell_type": "markdown",
   "metadata": {},
   "source": [
    "**1\\. Create one list of 5 fruits and another one with 5 colors**"
   ]
  },
  {
   "cell_type": "code",
   "execution_count": null,
   "metadata": {
    "collapsed": false
   },
   "outputs": [],
   "source": []
  },
  {
   "cell_type": "markdown",
   "metadata": {},
   "source": [
    "**2\\. Go through each fruit (first list) and print out the name of the fruit with one color of the second list **\n",
    "\n",
    "(don't worry, it doesn't have to be the color of the fruit!)\n",
    "\n",
    "Example of what you should print:  _apple is purple_"
   ]
  },
  {
   "cell_type": "code",
   "execution_count": null,
   "metadata": {
    "collapsed": true
   },
   "outputs": [],
   "source": []
  },
  {
   "cell_type": "markdown",
   "metadata": {},
   "source": [
    "**3\\. Add two new fruits to your list with a _BUILT-IN_ function **\n",
    "\n",
    "( Look for the function with the **TAB** hint! )"
   ]
  },
  {
   "cell_type": "code",
   "execution_count": null,
   "metadata": {
    "collapsed": false
   },
   "outputs": [],
   "source": []
  },
  {
   "cell_type": "markdown",
   "metadata": {},
   "source": [
    "**4\\. Use the list of fruits and sort the names (put them in alphabetical order) **\n",
    "\n",
    "( Hint: Numpy has a great function for that!)"
   ]
  },
  {
   "cell_type": "code",
   "execution_count": null,
   "metadata": {
    "collapsed": false
   },
   "outputs": [],
   "source": []
  },
  {
   "cell_type": "markdown",
   "metadata": {},
   "source": [
    "**5\\. Create a new empty list called \"count_letters\". Go through your list of fruits, and for each one, add an entry to that new list (count_letters) telling the number of letters each fruit name.**\n",
    "\n",
    "Example of what you should print: _apple is 5 letters_\n"
   ]
  },
  {
   "cell_type": "code",
   "execution_count": null,
   "metadata": {
    "collapsed": false
   },
   "outputs": [],
   "source": []
  },
  {
   "cell_type": "markdown",
   "metadata": {},
   "source": [
    "** 6\\. Make a function called `one_more_change` that takes a list (input_list) and returns a new list (output_list) where each element of the original will be increased by 1 and divided by 2. **"
   ]
  },
  {
   "cell_type": "code",
   "execution_count": null,
   "metadata": {
    "collapsed": true
   },
   "outputs": [],
   "source": [
    "def one_more(input_list):\n",
    "    output_list = []   # What should we do?\n",
    "    \n",
    "    return output_list"
   ]
  },
  {
   "cell_type": "markdown",
   "metadata": {},
   "source": [
    "** 7\\. Use the previous function to change the value of a list of 10 random numbers. **"
   ]
  },
  {
   "cell_type": "code",
   "execution_count": null,
   "metadata": {
    "collapsed": true
   },
   "outputs": [],
   "source": []
  }
 ],
 "metadata": {
  "kernelspec": {
   "display_name": "Python 2",
   "language": "python",
   "name": "python2"
  },
  "language_info": {
   "codemirror_mode": {
    "name": "ipython",
    "version": 2
   },
   "file_extension": ".py",
   "mimetype": "text/x-python",
   "name": "python",
   "nbconvert_exporter": "python",
   "pygments_lexer": "ipython2",
   "version": "2.7.11"
  }
 },
 "nbformat": 4,
 "nbformat_minor": 0
}
