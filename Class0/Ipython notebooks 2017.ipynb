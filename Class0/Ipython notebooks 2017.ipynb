{
 "cells": [
  {
   "cell_type": "markdown",
   "metadata": {},
   "source": [
    "# Ipython notebooks\n",
    "\n",
    "Spring 2017 - Prof. Foster Provost\n",
    "\n",
    "Teacher Assistant: Maria L Zamora Maass\n",
    "\n",
    "***"
   ]
  },
  {
   "cell_type": "markdown",
   "metadata": {},
   "source": [
    "## Python\n",
    "\n",
    "Python is a programming language that has been growing in popularity in recent years. There are many reasons for this, but it mostly comes down to Python being easy to learn and use as well as the fact that Python has a very active community that develops amazing extensions to Python!\n",
    "\n",
    "In just the past few years, Python has become one of the most frequently used languages in the world of data science due to the ability to almost instantly apply it to a large number of data science problems. When asking companies in different industries and of various sizes what lanuage they would like their data scientists to know when coming in, they almost all agree that Python is the best choice. If you are going to learn one language (something everyone should do!), Python would be a great choice.\n",
    "\n",
    "From this language, other languages, features and packages have been created: Ipython, Pandas, Numpy, Matplotlib, and others that we will be using during this course. For more info please visit https://www.python.org/doc/\n"
   ]
  },
  {
   "cell_type": "markdown",
   "metadata": {
    "collapsed": true
   },
   "source": [
    "## Jupyter Ipython notebooks\n",
    "\n",
    "One useful tool to work with Python is Jupyter, which has the Ipython notebooks.\n",
    "\n",
    "\"The IPython Notebook is now known as the Jupyter Notebook. It is an interactive computational environment, in which \n",
    "you can combine code execution, rich text, mathematics, plots and rich media. It is a web application that allows you to create and share documents that contain live code, equations, visualizations and explanatory text. Uses include: data cleaning and transformation, numerical simulation, statistical modeling, machine learning and much more.\"\n",
    "\n",
    "- Language: The Notebook has support for over 40 programming languages, including those popular in Data Science such as Python, R, Julia and Scala.\n",
    "\n",
    "- Sharing: Notebooks can be shared with others using email, Dropbox, GitHub and the Jupyter Notebook Viewer.\n",
    "\n",
    "- Widgets (apps): Code can produce rich output such as images, videos, LaTeX, and JavaScript. Interactive widgets can be used to manipulate and visualize data in realtime.\n",
    "\n",
    "\n",
    "IPython notebooks are made up of cells. There are two basics types of entries in an IPython notebook: **text cells** for comments, and **code cells** (commands). You can edit a cell by double clicking on it. You can get it back to the display mode (run a cell) by pressing the \"Play\" (▶) button, and you can also stop it with the \"square\" ◼︎ . Basically, all the tasks for cells can be found in the tool bar.\n",
    "\n",
    "\n",
    "\n",
    "\n",
    "For more details on the Jupyter Notebook, please see the Jupyter website http://jupyter.org/\n",
    "\n",
    "\n",
    "Steps to open a new notebook (you can open as many as you want!):\n",
    "\n",
    "\n",
    "![NewNotebook](images/new_notebook.png)\n",
    "\n",
    "\n",
    "\n",
    "This is how a new Ipython notebook looks:\n",
    "\n",
    "\n",
    "\n",
    "\n",
    "![NewNotebook](images/notebook.png)\n",
    "\n",
    "\n",
    "\n"
   ]
  },
  {
   "cell_type": "markdown",
   "metadata": {
    "collapsed": true
   },
   "source": [
    "## Text files and scripts in Jupyter\n",
    "\n",
    "In jupyter, we can also create new text files or scripts.\n",
    "\n",
    "A script is just text known as \"command\". This text is defined in certain programming language (e.g. Python) and can be executed as a \"program\" without user interaction. We can know the language of the script based on the extension of the file. Then, for example, a file called \"script_example.py\" is a file with python commands, and a file called \"script_example.R\" is a file with the R language commands.\n",
    "\n",
    "Steps to open a new text file:\n",
    "\n",
    "![NewText](images/new_text.png)\n",
    "\n",
    "***\n",
    "\n",
    "This is how it looks:\n",
    "\n",
    "![Text](images/text.png)\n",
    "\n",
    "***\n",
    "\n",
    "Now we can change the language and write some examples of Python commands. \n",
    "\n",
    "We should change the extension of this file into a file.py to be able to run the file later.\n",
    "\n",
    "![Language](images/selectlanguage.png)\n",
    "![Language](images/script.png)\n",
    "\n",
    "\n",
    "Why do we need scripts? Because it is a good way to write commands that will be used frequently. Then, instead of writing all the commands in many notebooks, we can create a script and just call its commands. You will see how I do this in later labs!\n"
   ]
  },
  {
   "cell_type": "markdown",
   "metadata": {},
   "source": [
    "## Text cells"
   ]
  },
  {
   "cell_type": "markdown",
   "metadata": {},
   "source": [
    "To write text in a cell we must select the cell and go to the toolbar to change it from \"code\" to \"markdown\". Now, you can write and do text formatting:\n",
    "\n",
    "- Hashtag (number sign) is useful \\# for titles\n",
    "- Simple \\*asterisk\\* or \\_underscores\\_ to emphasize things: _example_. \n",
    "- Double **asterisks** to make things bold. \n",
    "- Square Brackets [ ] are for links and images\n",
    "- Also, HTML code is allowed. Some resources can be found in [HTML w3schools](http://www.w3schools.com/html/html_examples.asp) <p style=\"color:red;\">This is a text with HTML code.</p>\n",
    "\n",
    "- And you can write math with $\\LaTeX$ (this is a typesetting system for the production of scientific documentation https://www.latex-project.org/): This can be achieved by wrapping it in dollar signs, $x = \\frac{-b \\pm \\sqrt{b^2 - 4ac}}{2a}$. If you don't know how to write a symbol, you can go to [Detexify](http://detexify.kirelabs.org/classify.html).\n",
    "\n",
    "\n",
    "\n",
    "\n",
    "\n",
    "If you are ever stuck, just Google **\"Markdown syntax\"** since the language the formatting is done in is called Markdown."
   ]
  },
  {
   "cell_type": "markdown",
   "metadata": {},
   "source": [
    "## Code cells\n",
    "\n",
    "Now, we will see a code cell (this is the default format of any cell). Here, we simply type any Python command and then click \"Play\". When we play a cell, the code in it is executed and it returns what we are asking for. Some of this information can be \"remembered\" as long as we keep this window open (session running). Code cells will always start with \"`In [ ]:`\". \n",
    "\n",
    "For example, in the following cell, I want it to remember that the **_VARIABLE_** called \"x\" is just the sum of two given numbers and I also want it to print the sum. Please select it and press the ▶ button to run it."
   ]
  },
  {
   "cell_type": "code",
   "execution_count": 1,
   "metadata": {
    "collapsed": false
   },
   "outputs": [
    {
     "name": "stdout",
     "output_type": "stream",
     "text": [
      "The value of the 'x' variable is 10.\n"
     ]
    }
   ],
   "source": [
    "\n",
    "x = 5 + 5\n",
    "print (\"The value of the 'x' variable is \" + str(x) + \".\")\n"
   ]
  },
  {
   "cell_type": "markdown",
   "metadata": {},
   "source": [
    "Instead of having to manually go and click the \"Play\" button every time, you can also run a cell with your keyboard. Just press **Ctrl + Enter** or **Shift + Enter**. Experiment with both of those to see what the difference is.\n",
    "\n",
    "We typically read IPython notebooks from **top to bottom**. This means that if a cell relies on a variable or function that was created earlier in the notebook, you must run the corresponding cell to make that information available in future cells  (_we cannot just call \"x\" in other cell if we don't run this one before_) !!!!\n",
    "\n",
    "_Note_: The number in the \"In [#]:\" statement will always increase by one for every time you run a code cell."
   ]
  },
  {
   "cell_type": "code",
   "execution_count": null,
   "metadata": {
    "collapsed": true
   },
   "outputs": [],
   "source": []
  }
 ],
 "metadata": {
  "kernelspec": {
   "display_name": "Python 2",
   "language": "python",
   "name": "python2"
  },
  "language_info": {
   "codemirror_mode": {
    "name": "ipython",
    "version": 2
   },
   "file_extension": ".py",
   "mimetype": "text/x-python",
   "name": "python",
   "nbconvert_exporter": "python",
   "pygments_lexer": "ipython2",
   "version": "2.7.11"
  }
 },
 "nbformat": 4,
 "nbformat_minor": 0
}
